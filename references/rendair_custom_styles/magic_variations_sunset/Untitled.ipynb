{
 "cells": [
  {
   "cell_type": "code",
   "execution_count": 8,
   "id": "817d6610-c2b4-4805-940f-a8a3f5316f44",
   "metadata": {},
   "outputs": [
    {
     "name": "stdout",
     "output_type": "stream",
     "text": [
      "Starting file renaming process...\n",
      "Found 9 files with extension .jpg\n",
      "Starting renaming process...\n",
      "Renamed: architectural_drawing (1).jpg → magic_variations_architectural_drawing_1.jpg\n",
      "Renamed: architectural_drawing (2).jpg → magic_variations_architectural_drawing_2.jpg\n",
      "Renamed: architectural_drawing (3).jpg → magic_variations_architectural_drawing_3.jpg\n",
      "Renamed: architectural_drawing (4).jpg → magic_variations_architectural_drawing_4.jpg\n",
      "Renamed: architectural_drawing (5).jpg → magic_variations_architectural_drawing_5.jpg\n",
      "Renamed: architectural_drawing (6).jpg → magic_variations_architectural_drawing_6.jpg\n",
      "Renamed: architectural_drawing (7).jpg → magic_variations_architectural_drawing_7.jpg\n",
      "Renamed: architectural_drawing (8).jpg → magic_variations_architectural_drawing_8.jpg\n",
      "Renamed: architectural_drawing (9).jpg → magic_variations_architectural_drawing_9.jpg\n",
      "\n",
      "Renaming complete!\n"
     ]
    }
   ],
   "source": [
    "import os\n",
    "from pathlib import Path\n",
    "\n",
    "def rename_files():\n",
    "    \"\"\"\n",
    "    Automatically rename all files in the current folder with sequential numbering.\n",
    "    \"\"\"\n",
    "    # Configuration\n",
    "    folder_path = \"/workspace/ComfyUI/custom_nodes/style_selector/references/rendair_custom_styles/magic_variations_architectural_drawing\"  # Current folder\n",
    "    new_name = \"magic_variations_architectural_drawing\"  # Base name for files\n",
    "    file_extension = \".jpg\"  # File extension to process\n",
    "    \n",
    "    # Convert to Path object\n",
    "    folder = Path(folder_path)\n",
    "    \n",
    "    # Get all files with the specified extension\n",
    "    files = sorted(list(folder.glob(f'*{file_extension}')))\n",
    "    \n",
    "    # Calculate the number of digits needed for padding\n",
    "    total_files = len(files)\n",
    "    padding = len(str(total_files))\n",
    "    \n",
    "    print(f\"Found {total_files} files with extension {file_extension}\")\n",
    "    print(f\"Starting renaming process...\")\n",
    "    \n",
    "    # Rename files\n",
    "    for index, file_path in enumerate(files, start=1):\n",
    "        # Create new filename with padding\n",
    "        new_filename = f\"{new_name}_{str(index).zfill(padding)}{file_extension}\"\n",
    "        new_path = file_path.parent / new_filename\n",
    "        \n",
    "        try:\n",
    "            file_path.rename(new_path)\n",
    "            print(f\"Renamed: {file_path.name} → {new_filename}\")\n",
    "        except Exception as e:\n",
    "            print(f\"Error renaming {file_path.name}: {e}\")\n",
    "\n",
    "if __name__ == \"__main__\":\n",
    "    try:\n",
    "        print(\"Starting file renaming process...\")\n",
    "        rename_files()\n",
    "        print(\"\\nRenaming complete!\")\n",
    "    except Exception as e:\n",
    "        print(f\"An error occurred: {e}\")"
   ]
  },
  {
   "cell_type": "code",
   "execution_count": null,
   "id": "3d77a728-b548-44a4-99d0-7beb6fd613b1",
   "metadata": {},
   "outputs": [],
   "source": []
  }
 ],
 "metadata": {
  "kernelspec": {
   "display_name": "Python 3 (ipykernel)",
   "language": "python",
   "name": "python3"
  },
  "language_info": {
   "codemirror_mode": {
    "name": "ipython",
    "version": 3
   },
   "file_extension": ".py",
   "mimetype": "text/x-python",
   "name": "python",
   "nbconvert_exporter": "python",
   "pygments_lexer": "ipython3",
   "version": "3.10.12"
  }
 },
 "nbformat": 4,
 "nbformat_minor": 5
}
